{
 "cells": [
  {
   "attachments": {},
   "cell_type": "markdown",
   "metadata": {},
   "source": [
    "## **Modelo de segmentación de clientes**"
   ]
  },
  {
   "attachments": {},
   "cell_type": "markdown",
   "metadata": {},
   "source": [
    "### El objetivo es identificar patrones y similitudes entre los clientes para comprender mejor sus necesidades, comportamientos y preferencias"
   ]
  },
  {
   "attachments": {},
   "cell_type": "markdown",
   "metadata": {},
   "source": [
    "### Importemos las librerías que se usarán"
   ]
  },
  {
   "cell_type": "code",
   "execution_count": 1370,
   "metadata": {},
   "outputs": [],
   "source": [
    "import pandas as pd\n",
    "import numpy as np\n",
    "import matplotlib.pyplot as plt\n",
    "import seaborn as sns\n",
    "import warnings\n",
    "# Ignorar todos los warnings\n",
    "warnings.filterwarnings(\"ignore\")"
   ]
  },
  {
   "attachments": {},
   "cell_type": "markdown",
   "metadata": {},
   "source": [
    "### Usaremos las tablas resultantes del EDA, así que las cargaremos"
   ]
  },
  {
   "cell_type": "code",
   "execution_count": 1371,
   "metadata": {},
   "outputs": [],
   "source": [
    "clientes = pd.read_csv(\"tabla_clientes_limpia.csv\")\n",
    "transacciones = pd.read_csv(\"tabla_transacciones_limpia.csv\")"
   ]
  },
  {
   "attachments": {},
   "cell_type": "markdown",
   "metadata": {},
   "source": [
    "### Uniremos los dos dataframes para trabajar con toda la información en cojunto"
   ]
  },
  {
   "cell_type": "code",
   "execution_count": 1372,
   "metadata": {},
   "outputs": [
    {
     "data": {
      "text/html": [
       "<div>\n",
       "<style scoped>\n",
       "    .dataframe tbody tr th:only-of-type {\n",
       "        vertical-align: middle;\n",
       "    }\n",
       "\n",
       "    .dataframe tbody tr th {\n",
       "        vertical-align: top;\n",
       "    }\n",
       "\n",
       "    .dataframe thead th {\n",
       "        text-align: right;\n",
       "    }\n",
       "</style>\n",
       "<table border=\"1\" class=\"dataframe\">\n",
       "  <thead>\n",
       "    <tr style=\"text-align: right;\">\n",
       "      <th></th>\n",
       "      <th>0</th>\n",
       "      <th>1</th>\n",
       "      <th>2</th>\n",
       "      <th>3</th>\n",
       "      <th>4</th>\n",
       "    </tr>\n",
       "  </thead>\n",
       "  <tbody>\n",
       "    <tr>\n",
       "      <th>Id</th>\n",
       "      <td>6</td>\n",
       "      <td>13</td>\n",
       "      <td>30</td>\n",
       "      <td>31</td>\n",
       "      <td>1888</td>\n",
       "    </tr>\n",
       "    <tr>\n",
       "      <th>TipoID_x</th>\n",
       "      <td>CE</td>\n",
       "      <td>CE</td>\n",
       "      <td>CE</td>\n",
       "      <td>CE</td>\n",
       "      <td>CC</td>\n",
       "    </tr>\n",
       "    <tr>\n",
       "      <th>Ocupacion</th>\n",
       "      <td>Ama de Casa</td>\n",
       "      <td>Ama de Casa</td>\n",
       "      <td>Ama de Casa</td>\n",
       "      <td>Ama de Casa</td>\n",
       "      <td>Ama de Casa</td>\n",
       "    </tr>\n",
       "    <tr>\n",
       "      <th>Nacimiento</th>\n",
       "      <td>1933-01-02</td>\n",
       "      <td>1930-04-20</td>\n",
       "      <td>1935-11-12</td>\n",
       "      <td>1932-06-04</td>\n",
       "      <td>1927-12-08</td>\n",
       "    </tr>\n",
       "    <tr>\n",
       "      <th>Edad</th>\n",
       "      <td>90</td>\n",
       "      <td>93</td>\n",
       "      <td>87</td>\n",
       "      <td>91</td>\n",
       "      <td>95</td>\n",
       "    </tr>\n",
       "    <tr>\n",
       "      <th>RangoEtario</th>\n",
       "      <td>Mayor de 50</td>\n",
       "      <td>Mayor de 50</td>\n",
       "      <td>Mayor de 50</td>\n",
       "      <td>Mayor de 50</td>\n",
       "      <td>Mayor de 50</td>\n",
       "    </tr>\n",
       "    <tr>\n",
       "      <th>Estado</th>\n",
       "      <td>Activo</td>\n",
       "      <td>Activo</td>\n",
       "      <td>Activo</td>\n",
       "      <td>Activo</td>\n",
       "      <td>Activo</td>\n",
       "    </tr>\n",
       "    <tr>\n",
       "      <th>IngresosFinancieros</th>\n",
       "      <td>30000000</td>\n",
       "      <td>755887000</td>\n",
       "      <td>18933000</td>\n",
       "      <td>8400000</td>\n",
       "      <td>21099000</td>\n",
       "    </tr>\n",
       "    <tr>\n",
       "      <th>Activos</th>\n",
       "      <td>532130000</td>\n",
       "      <td>886035000</td>\n",
       "      <td>431167000</td>\n",
       "      <td>152000000</td>\n",
       "      <td>508712000</td>\n",
       "    </tr>\n",
       "    <tr>\n",
       "      <th>Pasivos</th>\n",
       "      <td>2,200,000.00</td>\n",
       "      <td>201,145,000.00</td>\n",
       "      <td>0.00</td>\n",
       "      <td>0.00</td>\n",
       "      <td>45,094,000.00</td>\n",
       "    </tr>\n",
       "    <tr>\n",
       "      <th>Patrimonio</th>\n",
       "      <td>529,930,000.00</td>\n",
       "      <td>684,890,000.00</td>\n",
       "      <td>431,167,000.00</td>\n",
       "      <td>152,000,000.00</td>\n",
       "      <td>463,618,000.00</td>\n",
       "    </tr>\n",
       "    <tr>\n",
       "      <th>NivelRiesgo</th>\n",
       "      <td>Medio</td>\n",
       "      <td>Bajo</td>\n",
       "      <td>Medio</td>\n",
       "      <td>Medio</td>\n",
       "      <td>Medio</td>\n",
       "    </tr>\n",
       "    <tr>\n",
       "      <th>Segmento</th>\n",
       "      <td>Personal</td>\n",
       "      <td>Personal</td>\n",
       "      <td>Personal</td>\n",
       "      <td>Personal</td>\n",
       "      <td>Personal</td>\n",
       "    </tr>\n",
       "    <tr>\n",
       "      <th>RiesgoOcupacion</th>\n",
       "      <td>4</td>\n",
       "      <td>4</td>\n",
       "      <td>4</td>\n",
       "      <td>4</td>\n",
       "      <td>4</td>\n",
       "    </tr>\n",
       "    <tr>\n",
       "      <th>TipoID_y</th>\n",
       "      <td>CE</td>\n",
       "      <td>CE</td>\n",
       "      <td>CE</td>\n",
       "      <td>CE</td>\n",
       "      <td>CC</td>\n",
       "    </tr>\n",
       "    <tr>\n",
       "      <th>Portafolio_RentaFija</th>\n",
       "      <td>0.00</td>\n",
       "      <td>92,677,000.00</td>\n",
       "      <td>0.00</td>\n",
       "      <td>0.00</td>\n",
       "      <td>0.00</td>\n",
       "    </tr>\n",
       "    <tr>\n",
       "      <th>Portafolio_RentaVariable</th>\n",
       "      <td>0.00</td>\n",
       "      <td>0.00</td>\n",
       "      <td>0.00</td>\n",
       "      <td>0.00</td>\n",
       "      <td>12,164,600.00</td>\n",
       "    </tr>\n",
       "    <tr>\n",
       "      <th>Entradas_Transaccionales</th>\n",
       "      <td>0.00</td>\n",
       "      <td>0.00</td>\n",
       "      <td>0.00</td>\n",
       "      <td>0.00</td>\n",
       "      <td>26,833,333.33</td>\n",
       "    </tr>\n",
       "    <tr>\n",
       "      <th>Entradas_Frecuencia</th>\n",
       "      <td>0</td>\n",
       "      <td>0</td>\n",
       "      <td>0</td>\n",
       "      <td>0</td>\n",
       "      <td>0</td>\n",
       "    </tr>\n",
       "    <tr>\n",
       "      <th>Salidas_Transaccionales</th>\n",
       "      <td>25,236,070.36</td>\n",
       "      <td>13,750,000.00</td>\n",
       "      <td>690,280.33</td>\n",
       "      <td>2,007,750.00</td>\n",
       "      <td>9,877,199.93</td>\n",
       "    </tr>\n",
       "    <tr>\n",
       "      <th>Salidas_Frecuencia</th>\n",
       "      <td>1</td>\n",
       "      <td>2</td>\n",
       "      <td>1</td>\n",
       "      <td>1</td>\n",
       "      <td>3</td>\n",
       "    </tr>\n",
       "    <tr>\n",
       "      <th>DivisasCompras</th>\n",
       "      <td>0.00</td>\n",
       "      <td>0.00</td>\n",
       "      <td>0.00</td>\n",
       "      <td>0.00</td>\n",
       "      <td>0.00</td>\n",
       "    </tr>\n",
       "    <tr>\n",
       "      <th>DivisasVentas</th>\n",
       "      <td>0.00</td>\n",
       "      <td>0.00</td>\n",
       "      <td>0.00</td>\n",
       "      <td>0.00</td>\n",
       "      <td>0.00</td>\n",
       "    </tr>\n",
       "  </tbody>\n",
       "</table>\n",
       "</div>"
      ],
      "text/plain": [
       "                                      0              1              2  \\\n",
       "Id                                    6             13             30   \n",
       "TipoID_x                             CE             CE             CE   \n",
       "Ocupacion                   Ama de Casa    Ama de Casa    Ama de Casa   \n",
       "Nacimiento                   1933-01-02     1930-04-20     1935-11-12   \n",
       "Edad                                 90             93             87   \n",
       "RangoEtario                 Mayor de 50    Mayor de 50    Mayor de 50   \n",
       "Estado                           Activo         Activo         Activo   \n",
       "IngresosFinancieros            30000000      755887000       18933000   \n",
       "Activos                       532130000      886035000      431167000   \n",
       "Pasivos                    2,200,000.00 201,145,000.00           0.00   \n",
       "Patrimonio               529,930,000.00 684,890,000.00 431,167,000.00   \n",
       "NivelRiesgo                       Medio           Bajo          Medio   \n",
       "Segmento                       Personal       Personal       Personal   \n",
       "RiesgoOcupacion                       4              4              4   \n",
       "TipoID_y                             CE             CE             CE   \n",
       "Portafolio_RentaFija               0.00  92,677,000.00           0.00   \n",
       "Portafolio_RentaVariable           0.00           0.00           0.00   \n",
       "Entradas_Transaccionales           0.00           0.00           0.00   \n",
       "Entradas_Frecuencia                   0              0              0   \n",
       "Salidas_Transaccionales   25,236,070.36  13,750,000.00     690,280.33   \n",
       "Salidas_Frecuencia                    1              2              1   \n",
       "DivisasCompras                     0.00           0.00           0.00   \n",
       "DivisasVentas                      0.00           0.00           0.00   \n",
       "\n",
       "                                      3              4  \n",
       "Id                                   31           1888  \n",
       "TipoID_x                             CE             CC  \n",
       "Ocupacion                   Ama de Casa    Ama de Casa  \n",
       "Nacimiento                   1932-06-04     1927-12-08  \n",
       "Edad                                 91             95  \n",
       "RangoEtario                 Mayor de 50    Mayor de 50  \n",
       "Estado                           Activo         Activo  \n",
       "IngresosFinancieros             8400000       21099000  \n",
       "Activos                       152000000      508712000  \n",
       "Pasivos                            0.00  45,094,000.00  \n",
       "Patrimonio               152,000,000.00 463,618,000.00  \n",
       "NivelRiesgo                       Medio          Medio  \n",
       "Segmento                       Personal       Personal  \n",
       "RiesgoOcupacion                       4              4  \n",
       "TipoID_y                             CE             CC  \n",
       "Portafolio_RentaFija               0.00           0.00  \n",
       "Portafolio_RentaVariable           0.00  12,164,600.00  \n",
       "Entradas_Transaccionales           0.00  26,833,333.33  \n",
       "Entradas_Frecuencia                   0              0  \n",
       "Salidas_Transaccionales    2,007,750.00   9,877,199.93  \n",
       "Salidas_Frecuencia                    1              3  \n",
       "DivisasCompras                     0.00           0.00  \n",
       "DivisasVentas                      0.00           0.00  "
      ]
     },
     "execution_count": 1372,
     "metadata": {},
     "output_type": "execute_result"
    }
   ],
   "source": [
    "df_modelo = pd.merge(clientes, transacciones, on = \"Id\")\n",
    "df_modelo.head().T"
   ]
  },
  {
   "attachments": {},
   "cell_type": "markdown",
   "metadata": {},
   "source": [
    "### Podemos notar que la variable \"TipoID\" se duplicó. Verifiquemos que sean iguales, y en caso de serlo, usaremos solo una"
   ]
  },
  {
   "cell_type": "code",
   "execution_count": 1373,
   "metadata": {},
   "outputs": [
    {
     "name": "stdout",
     "output_type": "stream",
     "text": [
      "Las columnas TipoID son iguales\n"
     ]
    }
   ],
   "source": [
    "son_iguales = df_modelo[\"TipoID_x\"].equals(df_modelo[\"TipoID_y\"])\n",
    "if son_iguales is True:\n",
    "    df_modelo.drop(columns = \"TipoID_y\", inplace = True)\n",
    "    df_modelo.rename(columns = {\"TipoID_x\" : \"Tipo_ID\"}, inplace = True)\n",
    "    print(\"Las columnas TipoID son iguales\")\n",
    "else: print(\"Las columnas TipoID son distintas\")"
   ]
  },
  {
   "cell_type": "code",
   "execution_count": 1374,
   "metadata": {},
   "outputs": [
    {
     "name": "stdout",
     "output_type": "stream",
     "text": [
      "La tabla que se usará para el modelo tiene 8189 registros y 22 variables\n"
     ]
    }
   ],
   "source": [
    "print(f\"La tabla que se usará para el modelo tiene {df_modelo.shape[0]} registros y {df_modelo.shape[1]} variables\")"
   ]
  },
  {
   "attachments": {},
   "cell_type": "markdown",
   "metadata": {},
   "source": [
    "### Comencemos a implementar los modelos de ML. Para esto probaremos 2 algoritmos diferentes, calcularemos su eficacia, y nos quedaremos con el más óptimo"
   ]
  },
  {
   "attachments": {},
   "cell_type": "markdown",
   "metadata": {},
   "source": [
    "### Primero implementaremos un algoritmo de análisis de componentes principales (PCA) + K-means. Para esto, usaremos la técnica one-hot encoding con las variables categóricas y normalizaremos las variables numéricas"
   ]
  },
  {
   "attachments": {},
   "cell_type": "markdown",
   "metadata": {},
   "source": [
    "### Importemos las librerías necesarias"
   ]
  },
  {
   "cell_type": "code",
   "execution_count": 1375,
   "metadata": {},
   "outputs": [],
   "source": [
    "from sklearn.decomposition import PCA\n",
    "from sklearn.model_selection import GridSearchCV\n",
    "from sklearn.pipeline import Pipeline\n",
    "from sklearn.preprocessing import OneHotEncoder\n",
    "from sklearn.cluster import KMeans\n",
    "from sklearn.metrics import silhouette_score"
   ]
  },
  {
   "attachments": {},
   "cell_type": "markdown",
   "metadata": {},
   "source": [
    "### Creemos una copia del dataframe para el algoritmo k-means"
   ]
  },
  {
   "cell_type": "code",
   "execution_count": 1376,
   "metadata": {},
   "outputs": [],
   "source": [
    "df_k_means = df_modelo.copy()"
   ]
  },
  {
   "attachments": {},
   "cell_type": "markdown",
   "metadata": {},
   "source": [
    "###  Este código realiza una preparación de los datos numéricos, aplicando una transformación logarítmica y luego busca el mejor número de componentes principales para el análisis de PCA utilizando validación cruzada. El objetivo es encontrar la mejor configuración de componentes principales para el análisis de clustering posterior"
   ]
  },
  {
   "cell_type": "code",
   "execution_count": 1377,
   "metadata": {},
   "outputs": [
    {
     "name": "stdout",
     "output_type": "stream",
     "text": [
      "Mejor número de componentes principales: 2\n"
     ]
    }
   ],
   "source": [
    "# Separar las variables numéricas en un DataFrame\n",
    "numeric_cols = df_k_means.select_dtypes(include = [\"int\", \"float\"]).columns.tolist()\n",
    "# Removemos las variables que no se tendrán en cuenta producto del EDA\n",
    "numeric_cols.remove(\"Id\")\n",
    "numeric_cols.remove(\"Edad\")\n",
    "numeric_cols.remove(\"Patrimonio\")\n",
    "numeric_cols.remove(\"RiesgoOcupacion\")\n",
    "numeric_cols.remove(\"Entradas_Frecuencia\")\n",
    "numeric_cols.remove(\"Salidas_Frecuencia\")\n",
    "df_numeric = df_k_means[numeric_cols]\n",
    "# Aplicar la transformación logarítmica a las variables numéricas sin valores cero o negativos\n",
    "df_numeric_transformed = df_numeric.apply(lambda x: np.log1p(x) if (x > 0).all() else x)\n",
    "# Crear el estimador de PCA dentro de un Pipeline con la etapa de transformación logarítmica\n",
    "pipeline = Pipeline([\n",
    "    (\"pca\", PCA())\n",
    "])\n",
    "# Definir la grilla de hiperparámetros a explorar\n",
    "param_grid = {\n",
    "    \"pca__n_components\": [2, 3, 4, 5]\n",
    "}\n",
    "# Realizar la búsqueda de hiperparámetros utilizando validación cruzada\n",
    "grid_search = GridSearchCV(pipeline, param_grid, cv = 5)\n",
    "grid_search.fit(df_numeric_transformed)\n",
    "# Obtener el mejor valor de hiperparámetro\n",
    "best_n_components = grid_search.best_params_[\"pca__n_components\"]\n",
    "# Mostrar el mejor valor de hiperparámetro\n",
    "print(\"Mejor número de componentes principales:\", best_n_components)"
   ]
  },
  {
   "attachments": {},
   "cell_type": "markdown",
   "metadata": {},
   "source": [
    "###  Este código aplica una transformación logarítmica a los datos numéricos, realiza una búsqueda de hiperparámetros para encontrar el mejor número de clusters utilizando K-means y muestra el mejor valor encontrado"
   ]
  },
  {
   "cell_type": "code",
   "execution_count": 1378,
   "metadata": {},
   "outputs": [
    {
     "name": "stdout",
     "output_type": "stream",
     "text": [
      "Mejor número de clusters: 5\n"
     ]
    }
   ],
   "source": [
    "# Aplicar la transformación logarítmica a las variables numéricas\n",
    "df_numeric_transformed = np.log1p(df_numeric)\n",
    "# Reemplazar los valores NaN generados por la transformación con ceros\n",
    "df_numeric_transformed = np.nan_to_num(df_numeric_transformed, nan = 0.0)\n",
    "# Aplicar la transformación logarítmica a los valores transformados\n",
    "df_numeric_log = np.log(df_numeric_transformed + 1)  # Se suma 1 para evitar log(0)\n",
    "# Definir la grilla de hiperparámetros a explorar\n",
    "param_grid = {\n",
    "    \"n_clusters\": [2, 3, 4, 5]\n",
    "}\n",
    "# Crear el estimador de K-means\n",
    "kmeans = KMeans()\n",
    "# Realizar la búsqueda de hiperparámetros utilizando validación cruzada\n",
    "grid_search = GridSearchCV(kmeans, param_grid, cv = 5)\n",
    "grid_search.fit(df_numeric_transformed)\n",
    "# Obtener el mejor valor de hiperparámetro\n",
    "best_n_clusters_kmeans = grid_search.best_params_[\"n_clusters\"]\n",
    "# Mostrar el mejor valor de hiperparámetro\n",
    "print(\"Mejor número de clusters:\", best_n_clusters_kmeans)"
   ]
  },
  {
   "attachments": {},
   "cell_type": "markdown",
   "metadata": {},
   "source": [
    "### Este código realiza la transformación de las variables categóricas utilizando one-hot encoding, combina los datos numéricos transformados con los datos categóricos codificados, realiza PCA sobre los datos combinados y aplica K-means a las componentes principales resultantes para asignar etiquetas de segmentos al DataFrame original, esto, utlizando los hiperparámetros más óptimos calculados anteriormente"
   ]
  },
  {
   "cell_type": "code",
   "execution_count": 1379,
   "metadata": {},
   "outputs": [
    {
     "data": {
      "text/html": [
       "<div>\n",
       "<style scoped>\n",
       "    .dataframe tbody tr th:only-of-type {\n",
       "        vertical-align: middle;\n",
       "    }\n",
       "\n",
       "    .dataframe tbody tr th {\n",
       "        vertical-align: top;\n",
       "    }\n",
       "\n",
       "    .dataframe thead th {\n",
       "        text-align: right;\n",
       "    }\n",
       "</style>\n",
       "<table border=\"1\" class=\"dataframe\">\n",
       "  <thead>\n",
       "    <tr style=\"text-align: right;\">\n",
       "      <th></th>\n",
       "      <th>Cluster</th>\n",
       "      <th>Cantidad_Registros</th>\n",
       "    </tr>\n",
       "  </thead>\n",
       "  <tbody>\n",
       "    <tr>\n",
       "      <th>0</th>\n",
       "      <td>1</td>\n",
       "      <td>2204</td>\n",
       "    </tr>\n",
       "    <tr>\n",
       "      <th>1</th>\n",
       "      <td>0</td>\n",
       "      <td>2142</td>\n",
       "    </tr>\n",
       "    <tr>\n",
       "      <th>2</th>\n",
       "      <td>2</td>\n",
       "      <td>1667</td>\n",
       "    </tr>\n",
       "    <tr>\n",
       "      <th>3</th>\n",
       "      <td>3</td>\n",
       "      <td>1346</td>\n",
       "    </tr>\n",
       "    <tr>\n",
       "      <th>4</th>\n",
       "      <td>4</td>\n",
       "      <td>830</td>\n",
       "    </tr>\n",
       "  </tbody>\n",
       "</table>\n",
       "</div>"
      ],
      "text/plain": [
       "   Cluster  Cantidad_Registros\n",
       "0        1                2204\n",
       "1        0                2142\n",
       "2        2                1667\n",
       "3        3                1346\n",
       "4        4                 830"
      ]
     },
     "execution_count": 1379,
     "metadata": {},
     "output_type": "execute_result"
    }
   ],
   "source": [
    "# Separar las variables categóricas \n",
    "# Usaremos la variable ocupación como categorías\n",
    "df_k_means[\"RiesgoOcupacion\"] = df_k_means[\"RiesgoOcupacion\"].astype(object)\n",
    "categoric_cols = df_k_means.select_dtypes(include = [\"object\"]).columns.tolist()\n",
    "# Removemos las variables que no se tendrán en cuenta producto del EDA \n",
    "categoric_cols.remove(\"Nacimiento\")\n",
    "df_categorical = df_k_means[categoric_cols]\n",
    "# Aplicar one-hot encoding a las variables categóricas\n",
    "encoder = OneHotEncoder(sparse = False, drop = \"first\")\n",
    "df_categorical_encoded = encoder.fit_transform(df_categorical)\n",
    "# Concatenar los datos numéricos normalizados y los datos categóricos codificados\n",
    "df_combined = pd.concat([pd.DataFrame(df_numeric_log), pd.DataFrame(df_categorical_encoded)], axis=1)\n",
    "# Aplicar PCA a los datos combinados\n",
    "pca = PCA(best_n_components)\n",
    "components = pca.fit_transform(df_combined)\n",
    "# Aplicar K-means a los datos resultantes\n",
    "kmeans = KMeans(best_n_clusters_kmeans, random_state = 42)\n",
    "kmeans.fit(components)\n",
    "# Obtener las etiquetas de los segmentos\n",
    "segment_labels = kmeans.labels_\n",
    "# Asignar las etiquetas de segmentos al DataFrame original\n",
    "df_k_means[\"Cluster\"] = segment_labels\n",
    "# Mostrar cantidad de registros por cluster\n",
    "df_cluster_kmeans = pd.DataFrame(df_k_means[\"Cluster\"].value_counts()).reset_index()\n",
    "df_cluster_kmeans.columns = [\"Cluster\", \"Cantidad_Registros\"]\n",
    "df_cluster_kmeans"
   ]
  },
  {
   "cell_type": "code",
   "execution_count": 1380,
   "metadata": {},
   "outputs": [
    {
     "data": {
      "image/png": "[encoded data removed]",
      "text/plain": [
       "<Figure size 640x480 with 1 Axes>"
      ]
     },
     "metadata": {},
     "output_type": "display_data"
    }
   ],
   "source": [
    "plt.pie(data = df_cluster_kmeans, x = \"Cantidad_Registros\", labels = \"Cluster\")\n",
    "plt.title(\"Conteo De Registros Por Cluster\")\n",
    "plt.show()"
   ]
  },
  {
   "attachments": {},
   "cell_type": "markdown",
   "metadata": {},
   "source": [
    "### Ahora evaluemos la calidad del algoritmo"
   ]
  },
  {
   "cell_type": "code",
   "execution_count": 1381,
   "metadata": {},
   "outputs": [
    {
     "name": "stdout",
     "output_type": "stream",
     "text": [
      "WCSS: 3988.4364508808994\n",
      "Silhouette Score: 0.604440072718845\n"
     ]
    }
   ],
   "source": [
    "# Calcular la métrica de WCSS (suma de las distancias cuadradas dentro del cluster)\n",
    "wcss_k_means = kmeans.inertia_\n",
    "# Calcular la métrica de la silueta\n",
    "labels = kmeans.labels_\n",
    "silhouette_k_means = silhouette_score(components, labels)\n",
    "print(\"WCSS:\", wcss_k_means)\n",
    "print(\"Silhouette Score:\", silhouette_k_means)"
   ]
  },
  {
   "attachments": {},
   "cell_type": "markdown",
   "metadata": {},
   "source": [
    "### Ahora implementaremos un algoritmo de análisis de componentes principales (PCA) + Agglomerative Hierarchical Clustering. También usaremos la técnica one-hot encoding con las variables categóricas y normalizaremos las variables numéricas\n",
    "### Creemos una copia del dataframe para el algoritmo Agglomerative Hierarchical Clustering"
   ]
  },
  {
   "cell_type": "code",
   "execution_count": 1382,
   "metadata": {},
   "outputs": [],
   "source": [
    "df_Hierarchical = df_modelo.copy()"
   ]
  },
  {
   "attachments": {},
   "cell_type": "markdown",
   "metadata": {},
   "source": [
    "### Importar las librerías necesarias"
   ]
  },
  {
   "cell_type": "code",
   "execution_count": 1383,
   "metadata": {},
   "outputs": [],
   "source": [
    "from sklearn.cluster import AgglomerativeClustering\n",
    "from scipy.spatial.distance import pdist"
   ]
  },
  {
   "attachments": {},
   "cell_type": "markdown",
   "metadata": {},
   "source": [
    "### Este código busca encontrar el número óptimo de clusters utilizando Agglomerative Hierarchical Clustering y el coeficiente de silueta como métrica de evaluación"
   ]
  },
  {
   "cell_type": "code",
   "execution_count": 1384,
   "metadata": {},
   "outputs": [
    {
     "name": "stdout",
     "output_type": "stream",
     "text": [
      "Mejor número de clusters: 4\n",
      "Silhouette Score: 0.2606224489487138\n"
     ]
    }
   ],
   "source": [
    "best_n_clusters_hierarchical = None\n",
    "best_silhouette = -1\n",
    "for n_clusters in param_grid[\"n_clusters\"]:\n",
    "    # Crear el estimador de Agglomerative Hierarchical Clustering con la configuración actual\n",
    "    ahc = AgglomerativeClustering(n_clusters=n_clusters)\n",
    "    # Ajustar el modelo a los datos transformados\n",
    "    labels = ahc.fit_predict(df_numeric_transformed)\n",
    "    # Calcular el coeficiente de silueta\n",
    "    silhouette = silhouette_score(df_numeric_transformed, labels)\n",
    "    # Actualizar el mejor coeficiente de silueta y el mejor número de clusters\n",
    "    if silhouette > best_silhouette:\n",
    "        best_silhouette = silhouette\n",
    "        best_n_clusters_hierarchical = n_clusters\n",
    "# Mostrar el mejor valor de hiperparámetro y el coeficiente de silueta correspondiente\n",
    "print(\"Mejor número de clusters:\", best_n_clusters_hierarchical)\n",
    "print(\"Silhouette Score:\", best_silhouette)"
   ]
  },
  {
   "attachments": {},
   "cell_type": "markdown",
   "metadata": {},
   "source": [
    "### Este código realiza la preparación de los datos categóricos, aplica one-hot encoding, combina los datos numéricos y categóricos codificados, realiza la reducción de dimensionalidad con PCA, aplica Agglomerative Hierarchical Clustering y asigna las etiquetas de los clusters al DataFrame original. Finalmente, muestra la cantidad de registros por cluster\n",
    "### Es importante aclarar que usa el mismo valor óptimo de componentes principales (PCA) calculado anteriromente para el algoritmo K-means"
   ]
  },
  {
   "cell_type": "code",
   "execution_count": 1385,
   "metadata": {},
   "outputs": [
    {
     "data": {
      "text/html": [
       "<div>\n",
       "<style scoped>\n",
       "    .dataframe tbody tr th:only-of-type {\n",
       "        vertical-align: middle;\n",
       "    }\n",
       "\n",
       "    .dataframe tbody tr th {\n",
       "        vertical-align: top;\n",
       "    }\n",
       "\n",
       "    .dataframe thead th {\n",
       "        text-align: right;\n",
       "    }\n",
       "</style>\n",
       "<table border=\"1\" class=\"dataframe\">\n",
       "  <thead>\n",
       "    <tr style=\"text-align: right;\">\n",
       "      <th></th>\n",
       "      <th>Cluster</th>\n",
       "      <th>Cantidad_Registros</th>\n",
       "    </tr>\n",
       "  </thead>\n",
       "  <tbody>\n",
       "    <tr>\n",
       "      <th>0</th>\n",
       "      <td>0</td>\n",
       "      <td>3115</td>\n",
       "    </tr>\n",
       "    <tr>\n",
       "      <th>1</th>\n",
       "      <td>2</td>\n",
       "      <td>2288</td>\n",
       "    </tr>\n",
       "    <tr>\n",
       "      <th>2</th>\n",
       "      <td>1</td>\n",
       "      <td>1575</td>\n",
       "    </tr>\n",
       "    <tr>\n",
       "      <th>3</th>\n",
       "      <td>3</td>\n",
       "      <td>1211</td>\n",
       "    </tr>\n",
       "  </tbody>\n",
       "</table>\n",
       "</div>"
      ],
      "text/plain": [
       "   Cluster  Cantidad_Registros\n",
       "0        0                3115\n",
       "1        2                2288\n",
       "2        1                1575\n",
       "3        3                1211"
      ]
     },
     "execution_count": 1385,
     "metadata": {},
     "output_type": "execute_result"
    }
   ],
   "source": [
    "# Separar las variables categóricas\n",
    "# Usaremos la variable ocupación como categorías\n",
    "df_Hierarchical[\"RiesgoOcupacion\"] = df_Hierarchical[\"RiesgoOcupacion\"].astype(object)\n",
    "categoric_cols = df_Hierarchical.select_dtypes(include=[\"object\"]).columns.tolist()\n",
    "# Removemos las variables que no se tendrán en cuenta producto del EDA\n",
    "categoric_cols.remove(\"Nacimiento\")\n",
    "df_categorical = df_Hierarchical[categoric_cols]\n",
    "# Aplicar one-hot encoding a las variables categóricas\n",
    "encoder = OneHotEncoder(sparse = False, drop = \"first\")\n",
    "df_categorical_encoded = encoder.fit_transform(df_categorical)\n",
    "# Concatenar los datos numéricos normalizados y los datos categóricos codificados\n",
    "df_combined = pd.concat([pd.DataFrame(df_numeric_log), pd.DataFrame(df_categorical_encoded)], axis=1)\n",
    "# Aplicar PCA a los datos combinados\n",
    "pca = PCA(n_components = best_n_components)\n",
    "components = pca.fit_transform(df_combined)\n",
    "# Crear el estimador de Agglomerative Hierarchical Clustering\n",
    "ahc = AgglomerativeClustering(n_clusters = best_n_clusters_hierarchical)\n",
    "# Realizar el clustering\n",
    "ahc.fit(components)\n",
    "# Obtener las etiquetas de los segmentos\n",
    "segment_labels = ahc.labels_\n",
    "# Asignar las etiquetas de segmentos al DataFrame original\n",
    "df_Hierarchical[\"Cluster\"] = segment_labels\n",
    "# Mostrar cantidad de registros por cluster\n",
    "df_cluster_ahc = pd.DataFrame(df_Hierarchical[\"Cluster\"].value_counts()).reset_index()\n",
    "df_cluster_ahc.columns = [\"Cluster\", \"Cantidad_Registros\"]\n",
    "df_cluster_ahc"
   ]
  },
  {
   "cell_type": "code",
   "execution_count": 1386,
   "metadata": {},
   "outputs": [
    {
     "data": {
      "image/png": "[encoded data removed]",
      "text/plain": [
       "<Figure size 640x480 with 1 Axes>"
      ]
     },
     "metadata": {},
     "output_type": "display_data"
    }
   ],
   "source": [
    "plt.pie(data = df_cluster_ahc, x = \"Cantidad_Registros\", labels = \"Cluster\")\n",
    "plt.title(\"Conteo De Registros Por Cluster\")\n",
    "plt.show()"
   ]
  },
  {
   "attachments": {},
   "cell_type": "markdown",
   "metadata": {},
   "source": [
    "### Pasemos a evaluar la calidad de algoritmo"
   ]
  },
  {
   "cell_type": "code",
   "execution_count": 1387,
   "metadata": {},
   "outputs": [
    {
     "name": "stdout",
     "output_type": "stream",
     "text": [
      "WCSS: 5.409540992186964e+28\n",
      "Silhouette Score: 0.6229270837526371\n"
     ]
    }
   ],
   "source": [
    "# Calcular las distancias entre los datos y los centroides\n",
    "distances = pdist(df_Hierarchical[numeric_cols], metric = \"euclidean\")\n",
    "# Calcular WCSS sumando las distancias al cuadrado\n",
    "wcss_hierarchical = (distances ** 2).sum()\n",
    "# Calcular Silhouette Score\n",
    "silhouette_hierarchical = silhouette_score(components, df_Hierarchical[\"Cluster\"])\n",
    "# Mostrar los resultados\n",
    "print(\"WCSS:\", wcss_hierarchical)\n",
    "print(\"Silhouette Score:\", silhouette_hierarchical)"
   ]
  },
  {
   "attachments": {},
   "cell_type": "markdown",
   "metadata": {},
   "source": [
    "### Ahora que tenemos nuestros algoritmos testeados, averiguemos cual es más eficiente"
   ]
  },
  {
   "attachments": {},
   "cell_type": "markdown",
   "metadata": {},
   "source": [
    "### Primero veamos una resumida definición de las métricas de calidad usadas:"
   ]
  },
  {
   "attachments": {},
   "cell_type": "markdown",
   "metadata": {},
   "source": [
    "- WCSS (Within-Cluster Sum of Squares): El WCSS es una medida de la varianza dentro de cada cluster. Cuanto menor sea el valor de WCSS, mejor será la agrupación, ya que indica que los puntos dentro de cada cluster están más cercanos entre sí.\n",
    "\n",
    "- Silhouette Score: El Silhouette Score es una medida de la cohesión y separación de los clusters. Toma valores en el rango [-1, 1], donde un valor más cercano a 1 indica que los puntos dentro de un cluster están bien agrupados y separados de otros clusters. "
   ]
  },
  {
   "attachments": {},
   "cell_type": "markdown",
   "metadata": {},
   "source": [
    "### Conclusión:"
   ]
  },
  {
   "cell_type": "code",
   "execution_count": 1388,
   "metadata": {},
   "outputs": [
    {
     "name": "stdout",
     "output_type": "stream",
     "text": [
      "Los resultados de la calidad del algoritmo K-Means son:\n",
      "- WCSS: 3988.4364508808994\n",
      "- Silhouette Score: 0.604440072718845\n",
      "\n",
      "Los resultados de la calidad del algoritmo Agglomerative Hierarchical Clustering son:\n",
      "- WCSS: 5.409540992186964e+28\n",
      "- Silhouette Score: 0.6229270837526371\n"
     ]
    }
   ],
   "source": [
    "print(\"Los resultados de la calidad del algoritmo K-Means son:\")\n",
    "print(f\"- WCSS: {wcss_k_means}\\n- Silhouette Score: {silhouette_k_means}\\n\")\n",
    "print(\"Los resultados de la calidad del algoritmo Agglomerative Hierarchical Clustering son:\")\n",
    "print(f\"- WCSS: {wcss_hierarchical}\\n- Silhouette Score: {silhouette_hierarchical}\")"
   ]
  },
  {
   "attachments": {},
   "cell_type": "markdown",
   "metadata": {},
   "source": [
    "### Entre los dos valores mencionados, el primero es mejor en términos de calidad de clustering\n",
    "### Comparando los valores de WCSS, el primer resultado tiene un valor mucho más bajo en comparación con el segundo resultado. Un valor de WCSS más bajo indica una mejor cohesión dentro de los clústeres, lo que significa que los puntos dentro de cada clúster están más cerca entre sí\n",
    "### En cuanto al Silhouette Score, el segundo resultado es ligeramente mejor que el primero. Aunque la diferencia en los valores de Silhouette Score no es significativa, el segundo resultado tiene un valor ligeramente más alto, lo que implica una mejor calidad de clustering en términos de separación y cohesión\n",
    "### En resumen, considerando tanto el WCSS como el Silhouette Score, el primer resultado es mejor que el segundo resultado en términos de calidad de clustering\n",
    "### Esto indica que el análisis de componentes principales (PCA) y el algoritmo de clustering (K-means) han funcionado de manera efectiva en este conjunto de datos, por lo que crearemos los perfiles de cluster a partir de sus resultados"
   ]
  },
  {
   "attachments": {},
   "cell_type": "markdown",
   "metadata": {},
   "source": [
    "### Etiquetaremos los resultados de las variables de cada cluster por cuantiles \n"
   ]
  },
  {
   "attachments": {},
   "cell_type": "markdown",
   "metadata": {},
   "source": [
    "### Primero analicemos las variables numéricas; para esto calcularemos la mediana de cada una ya que es menos sensible a valores atípicos que la media"
   ]
  },
  {
   "cell_type": "code",
   "execution_count": 1389,
   "metadata": {},
   "outputs": [
    {
     "data": {
      "text/html": [
       "<div>\n",
       "<style scoped>\n",
       "    .dataframe tbody tr th:only-of-type {\n",
       "        vertical-align: middle;\n",
       "    }\n",
       "\n",
       "    .dataframe tbody tr th {\n",
       "        vertical-align: top;\n",
       "    }\n",
       "\n",
       "    .dataframe thead th {\n",
       "        text-align: right;\n",
       "    }\n",
       "</style>\n",
       "<table border=\"1\" class=\"dataframe\">\n",
       "  <thead>\n",
       "    <tr style=\"text-align: right;\">\n",
       "      <th>Cluster</th>\n",
       "      <th>0</th>\n",
       "      <th>1</th>\n",
       "      <th>2</th>\n",
       "      <th>3</th>\n",
       "      <th>4</th>\n",
       "    </tr>\n",
       "  </thead>\n",
       "  <tbody>\n",
       "    <tr>\n",
       "      <th>IngresosFinancieros</th>\n",
       "      <td>88,228,500.00</td>\n",
       "      <td>96,000,000.00</td>\n",
       "      <td>144,000,000.00</td>\n",
       "      <td>137,351,000.00</td>\n",
       "      <td>37,848,000.00</td>\n",
       "    </tr>\n",
       "    <tr>\n",
       "      <th>Activos</th>\n",
       "      <td>720,899,000.00</td>\n",
       "      <td>956,773,000.00</td>\n",
       "      <td>1,268,782,000.00</td>\n",
       "      <td>987,476,500.00</td>\n",
       "      <td>450,000,000.00</td>\n",
       "    </tr>\n",
       "    <tr>\n",
       "      <th>Pasivos</th>\n",
       "      <td>10,854,500.00</td>\n",
       "      <td>44,225,500.00</td>\n",
       "      <td>60,964,000.00</td>\n",
       "      <td>50,000,000.00</td>\n",
       "      <td>0.00</td>\n",
       "    </tr>\n",
       "    <tr>\n",
       "      <th>Portafolio_RentaFija</th>\n",
       "      <td>0.00</td>\n",
       "      <td>0.00</td>\n",
       "      <td>0.00</td>\n",
       "      <td>0.00</td>\n",
       "      <td>0.00</td>\n",
       "    </tr>\n",
       "    <tr>\n",
       "      <th>Portafolio_RentaVariable</th>\n",
       "      <td>30,594,025.00</td>\n",
       "      <td>0.00</td>\n",
       "      <td>0.00</td>\n",
       "      <td>74,119,308.75</td>\n",
       "      <td>0.00</td>\n",
       "    </tr>\n",
       "    <tr>\n",
       "      <th>Entradas_Transaccionales</th>\n",
       "      <td>0.00</td>\n",
       "      <td>0.00</td>\n",
       "      <td>52,150,259.03</td>\n",
       "      <td>28,412,106.67</td>\n",
       "      <td>0.00</td>\n",
       "    </tr>\n",
       "    <tr>\n",
       "      <th>Salidas_Transaccionales</th>\n",
       "      <td>7,297,481.50</td>\n",
       "      <td>21,054,063.19</td>\n",
       "      <td>24,446,914.35</td>\n",
       "      <td>11,384,592.11</td>\n",
       "      <td>16,809,882.30</td>\n",
       "    </tr>\n",
       "    <tr>\n",
       "      <th>DivisasCompras</th>\n",
       "      <td>0.00</td>\n",
       "      <td>0.00</td>\n",
       "      <td>0.00</td>\n",
       "      <td>0.00</td>\n",
       "      <td>0.00</td>\n",
       "    </tr>\n",
       "    <tr>\n",
       "      <th>DivisasVentas</th>\n",
       "      <td>0.00</td>\n",
       "      <td>0.00</td>\n",
       "      <td>0.00</td>\n",
       "      <td>0.00</td>\n",
       "      <td>0.00</td>\n",
       "    </tr>\n",
       "  </tbody>\n",
       "</table>\n",
       "</div>"
      ],
      "text/plain": [
       "Cluster                               0              1                2  \\\n",
       "IngresosFinancieros       88,228,500.00  96,000,000.00   144,000,000.00   \n",
       "Activos                  720,899,000.00 956,773,000.00 1,268,782,000.00   \n",
       "Pasivos                   10,854,500.00  44,225,500.00    60,964,000.00   \n",
       "Portafolio_RentaFija               0.00           0.00             0.00   \n",
       "Portafolio_RentaVariable  30,594,025.00           0.00             0.00   \n",
       "Entradas_Transaccionales           0.00           0.00    52,150,259.03   \n",
       "Salidas_Transaccionales    7,297,481.50  21,054,063.19    24,446,914.35   \n",
       "DivisasCompras                     0.00           0.00             0.00   \n",
       "DivisasVentas                      0.00           0.00             0.00   \n",
       "\n",
       "Cluster                               3              4  \n",
       "IngresosFinancieros      137,351,000.00  37,848,000.00  \n",
       "Activos                  987,476,500.00 450,000,000.00  \n",
       "Pasivos                   50,000,000.00           0.00  \n",
       "Portafolio_RentaFija               0.00           0.00  \n",
       "Portafolio_RentaVariable  74,119,308.75           0.00  \n",
       "Entradas_Transaccionales  28,412,106.67           0.00  \n",
       "Salidas_Transaccionales   11,384,592.11  16,809,882.30  \n",
       "DivisasCompras                     0.00           0.00  \n",
       "DivisasVentas                      0.00           0.00  "
      ]
     },
     "execution_count": 1389,
     "metadata": {},
     "output_type": "execute_result"
    }
   ],
   "source": [
    "k_means_cluster_stats = pd.DataFrame(df_k_means.groupby(\"Cluster\")[numeric_cols].median())\n",
    "pd.set_option(\"display.float_format\", \"{:,.2f}\".format)\n",
    "k_means_cluster_stats.T"
   ]
  },
  {
   "cell_type": "code",
   "execution_count": 1390,
   "metadata": {},
   "outputs": [],
   "source": [
    "num_vars_k_means = k_means_cluster_stats.columns.tolist()\n",
    "lista_df_etiquetas_num = []\n",
    "for variable in num_vars_k_means:\n",
    "    df_sorted = k_means_cluster_stats[variable].sort_values(ascending = False).reset_index()\n",
    "    # Asignar etiquetas según posición relativa\n",
    "    df_sorted[\"Etiqueta\"] = \"\"\n",
    "    df_sorted.loc[df_sorted[variable] >= df_numeric[variable].quantile(2/3), \"Etiqueta\"] = \"alto\"\n",
    "    df_sorted.loc[(df_sorted[variable] < df_numeric[variable].quantile(2/3)) & (df_sorted[variable] > df_numeric[variable].quantile(1/3)), \"Etiqueta\"] = \"medio\"\n",
    "    df_sorted.loc[df_sorted[variable] <= df_numeric[variable].quantile(1/3), \"Etiqueta\"] = \"bajo\"\n",
    "    lista_df_etiquetas_num.append(df_sorted)"
   ]
  },
  {
   "attachments": {},
   "cell_type": "markdown",
   "metadata": {},
   "source": [
    "### Analicemos gráficamente cada variable"
   ]
  },
  {
   "attachments": {},
   "cell_type": "markdown",
   "metadata": {},
   "source": [
    "## Ingresos Financieros"
   ]
  },
  {
   "cell_type": "code",
   "execution_count": 1391,
   "metadata": {},
   "outputs": [
    {
     "data": {
      "image/png": "[encoded data removed]",
      "text/plain": [
       "<Figure size 300x300 with 1 Axes>"
      ]
     },
     "metadata": {},
     "output_type": "display_data"
    }
   ],
   "source": [
    "plt.figure(figsize = (3, 3))\n",
    "sns.scatterplot(data = lista_df_etiquetas_num[0], x = \"Cluster\", y = \"Etiqueta\")\n",
    "plt.show()"
   ]
  },
  {
   "attachments": {},
   "cell_type": "markdown",
   "metadata": {},
   "source": [
    "## Activos"
   ]
  },
  {
   "cell_type": "code",
   "execution_count": 1392,
   "metadata": {},
   "outputs": [
    {
     "data": {
      "image/png": "[encoded data removed]",
      "text/plain": [
       "<Figure size 300x300 with 1 Axes>"
      ]
     },
     "metadata": {},
     "output_type": "display_data"
    }
   ],
   "source": [
    "plt.figure(figsize = (3, 3))\n",
    "sns.scatterplot(data = lista_df_etiquetas_num[1], x = \"Cluster\", y = \"Etiqueta\")\n",
    "plt.show()"
   ]
  },
  {
   "attachments": {},
   "cell_type": "markdown",
   "metadata": {},
   "source": [
    "## Pasivos"
   ]
  },
  {
   "cell_type": "code",
   "execution_count": 1393,
   "metadata": {},
   "outputs": [
    {
     "data": {
      "image/png": "[encoded data removed]",
      "text/plain": [
       "<Figure size 300x300 with 1 Axes>"
      ]
     },
     "metadata": {},
     "output_type": "display_data"
    }
   ],
   "source": [
    "plt.figure(figsize = (3, 3))\n",
    "sns.scatterplot(data = lista_df_etiquetas_num[2], x = \"Cluster\", y = \"Etiqueta\")\n",
    "plt.show()"
   ]
  },
  {
   "attachments": {},
   "cell_type": "markdown",
   "metadata": {},
   "source": [
    "## Portafolio_RentaFija"
   ]
  },
  {
   "cell_type": "code",
   "execution_count": 1394,
   "metadata": {},
   "outputs": [
    {
     "data": {
      "image/png": "[encoded data removed]",
      "text/plain": [
       "<Figure size 300x300 with 1 Axes>"
      ]
     },
     "metadata": {},
     "output_type": "display_data"
    }
   ],
   "source": [
    "plt.figure(figsize = (3, 3))\n",
    "sns.scatterplot(data = lista_df_etiquetas_num[3], x = \"Cluster\", y = \"Etiqueta\")\n",
    "plt.show()"
   ]
  },
  {
   "attachments": {},
   "cell_type": "markdown",
   "metadata": {},
   "source": [
    "## Portafolio_RentaVariable"
   ]
  },
  {
   "cell_type": "code",
   "execution_count": 1395,
   "metadata": {},
   "outputs": [
    {
     "data": {
      "image/png": "[encoded data removed]",
      "text/plain": [
       "<Figure size 300x300 with 1 Axes>"
      ]
     },
     "metadata": {},
     "output_type": "display_data"
    }
   ],
   "source": [
    "plt.figure(figsize = (3, 3))\n",
    "sns.scatterplot(data = lista_df_etiquetas_num[4], x = \"Cluster\", y = \"Etiqueta\")\n",
    "plt.show()"
   ]
  },
  {
   "attachments": {},
   "cell_type": "markdown",
   "metadata": {},
   "source": [
    "## Entradas_Transaccionales"
   ]
  },
  {
   "cell_type": "code",
   "execution_count": 1396,
   "metadata": {},
   "outputs": [
    {
     "data": {
      "image/png": "[encoded data removed]",
      "text/plain": [
       "<Figure size 300x300 with 1 Axes>"
      ]
     },
     "metadata": {},
     "output_type": "display_data"
    }
   ],
   "source": [
    "plt.figure(figsize = (3, 3))\n",
    "sns.scatterplot(data = lista_df_etiquetas_num[5], x = \"Cluster\", y = \"Etiqueta\")\n",
    "plt.show()"
   ]
  },
  {
   "attachments": {},
   "cell_type": "markdown",
   "metadata": {},
   "source": [
    "## Salidas_Transaccionales"
   ]
  },
  {
   "cell_type": "code",
   "execution_count": 1397,
   "metadata": {},
   "outputs": [
    {
     "data": {
      "image/png": "[encoded data removed]",
      "text/plain": [
       "<Figure size 300x300 with 1 Axes>"
      ]
     },
     "metadata": {},
     "output_type": "display_data"
    }
   ],
   "source": [
    "plt.figure(figsize = (3, 3))\n",
    "sns.scatterplot(data = lista_df_etiquetas_num[6], x = \"Cluster\", y = \"Etiqueta\")\n",
    "plt.show()"
   ]
  },
  {
   "attachments": {},
   "cell_type": "markdown",
   "metadata": {},
   "source": [
    "## DivisasCompras"
   ]
  },
  {
   "cell_type": "code",
   "execution_count": 1398,
   "metadata": {},
   "outputs": [
    {
     "data": {
      "image/png": "[encoded data removed]",
      "text/plain": [
       "<Figure size 300x300 with 1 Axes>"
      ]
     },
     "metadata": {},
     "output_type": "display_data"
    }
   ],
   "source": [
    "plt.figure(figsize = (3, 3))\n",
    "sns.scatterplot(data = lista_df_etiquetas_num[7], x = \"Cluster\", y = \"Etiqueta\")\n",
    "plt.show()"
   ]
  },
  {
   "attachments": {},
   "cell_type": "markdown",
   "metadata": {},
   "source": [
    "## DivisasVentas"
   ]
  },
  {
   "cell_type": "code",
   "execution_count": 1399,
   "metadata": {},
   "outputs": [
    {
     "data": {
      "image/png": "[encoded data removed]",
      "text/plain": [
       "<Figure size 300x300 with 1 Axes>"
      ]
     },
     "metadata": {},
     "output_type": "display_data"
    }
   ],
   "source": [
    "plt.figure(figsize = (3, 3))\n",
    "sns.scatterplot(data = lista_df_etiquetas_num[8], x = \"Cluster\", y = \"Etiqueta\")\n",
    "plt.show()"
   ]
  },
  {
   "attachments": {},
   "cell_type": "markdown",
   "metadata": {},
   "source": [
    "### Ahora analicemos las variables categóricas. Para esto basta con calcular la cantidad de veces que se repita cada variable por cluster"
   ]
  },
  {
   "cell_type": "code",
   "execution_count": 1400,
   "metadata": {},
   "outputs": [],
   "source": [
    "categoric_cols\n",
    "lista_df_etiquetas_cat = []\n",
    "for column in categoric_cols:\n",
    "    profile = df_k_means.groupby(\"Cluster\")[column].value_counts().unstack().fillna(0)\n",
    "    lista_df_etiquetas_cat.append(profile)"
   ]
  },
  {
   "attachments": {},
   "cell_type": "markdown",
   "metadata": {},
   "source": [
    "## Tipo_ID"
   ]
  },
  {
   "cell_type": "code",
   "execution_count": 1401,
   "metadata": {},
   "outputs": [
    {
     "data": {
      "text/html": [
       "<div>\n",
       "<style scoped>\n",
       "    .dataframe tbody tr th:only-of-type {\n",
       "        vertical-align: middle;\n",
       "    }\n",
       "\n",
       "    .dataframe tbody tr th {\n",
       "        vertical-align: top;\n",
       "    }\n",
       "\n",
       "    .dataframe thead th {\n",
       "        text-align: right;\n",
       "    }\n",
       "</style>\n",
       "<table border=\"1\" class=\"dataframe\">\n",
       "  <thead>\n",
       "    <tr style=\"text-align: right;\">\n",
       "      <th>Tipo_ID</th>\n",
       "      <th>CC</th>\n",
       "      <th>CE</th>\n",
       "      <th>OT</th>\n",
       "      <th>PP</th>\n",
       "      <th>RC</th>\n",
       "      <th>TI</th>\n",
       "    </tr>\n",
       "    <tr>\n",
       "      <th>Cluster</th>\n",
       "      <th></th>\n",
       "      <th></th>\n",
       "      <th></th>\n",
       "      <th></th>\n",
       "      <th></th>\n",
       "      <th></th>\n",
       "    </tr>\n",
       "  </thead>\n",
       "  <tbody>\n",
       "    <tr>\n",
       "      <th>0</th>\n",
       "      <td>2,083.00</td>\n",
       "      <td>11.00</td>\n",
       "      <td>0.00</td>\n",
       "      <td>4.00</td>\n",
       "      <td>10.00</td>\n",
       "      <td>34.00</td>\n",
       "    </tr>\n",
       "    <tr>\n",
       "      <th>1</th>\n",
       "      <td>2,127.00</td>\n",
       "      <td>37.00</td>\n",
       "      <td>1.00</td>\n",
       "      <td>2.00</td>\n",
       "      <td>6.00</td>\n",
       "      <td>31.00</td>\n",
       "    </tr>\n",
       "    <tr>\n",
       "      <th>2</th>\n",
       "      <td>1,618.00</td>\n",
       "      <td>24.00</td>\n",
       "      <td>0.00</td>\n",
       "      <td>6.00</td>\n",
       "      <td>4.00</td>\n",
       "      <td>15.00</td>\n",
       "    </tr>\n",
       "    <tr>\n",
       "      <th>3</th>\n",
       "      <td>1,316.00</td>\n",
       "      <td>10.00</td>\n",
       "      <td>1.00</td>\n",
       "      <td>7.00</td>\n",
       "      <td>0.00</td>\n",
       "      <td>12.00</td>\n",
       "    </tr>\n",
       "    <tr>\n",
       "      <th>4</th>\n",
       "      <td>787.00</td>\n",
       "      <td>13.00</td>\n",
       "      <td>0.00</td>\n",
       "      <td>4.00</td>\n",
       "      <td>4.00</td>\n",
       "      <td>22.00</td>\n",
       "    </tr>\n",
       "  </tbody>\n",
       "</table>\n",
       "</div>"
      ],
      "text/plain": [
       "Tipo_ID       CC    CE   OT   PP    RC    TI\n",
       "Cluster                                     \n",
       "0       2,083.00 11.00 0.00 4.00 10.00 34.00\n",
       "1       2,127.00 37.00 1.00 2.00  6.00 31.00\n",
       "2       1,618.00 24.00 0.00 6.00  4.00 15.00\n",
       "3       1,316.00 10.00 1.00 7.00  0.00 12.00\n",
       "4         787.00 13.00 0.00 4.00  4.00 22.00"
      ]
     },
     "execution_count": 1401,
     "metadata": {},
     "output_type": "execute_result"
    }
   ],
   "source": [
    "lista_df_etiquetas_cat[0]"
   ]
  },
  {
   "attachments": {},
   "cell_type": "markdown",
   "metadata": {},
   "source": [
    "## Ocupacion"
   ]
  },
  {
   "cell_type": "code",
   "execution_count": 1402,
   "metadata": {},
   "outputs": [
    {
     "data": {
      "text/html": [
       "<div>\n",
       "<style scoped>\n",
       "    .dataframe tbody tr th:only-of-type {\n",
       "        vertical-align: middle;\n",
       "    }\n",
       "\n",
       "    .dataframe tbody tr th {\n",
       "        vertical-align: top;\n",
       "    }\n",
       "\n",
       "    .dataframe thead th {\n",
       "        text-align: right;\n",
       "    }\n",
       "</style>\n",
       "<table border=\"1\" class=\"dataframe\">\n",
       "  <thead>\n",
       "    <tr style=\"text-align: right;\">\n",
       "      <th>Ocupacion</th>\n",
       "      <th>Ama de Casa</th>\n",
       "      <th>Empleado</th>\n",
       "      <th>Estudiante</th>\n",
       "      <th>Independiente</th>\n",
       "      <th>Otro</th>\n",
       "      <th>Pensionado</th>\n",
       "      <th>Rentista de Capital</th>\n",
       "    </tr>\n",
       "    <tr>\n",
       "      <th>Cluster</th>\n",
       "      <th></th>\n",
       "      <th></th>\n",
       "      <th></th>\n",
       "      <th></th>\n",
       "      <th></th>\n",
       "      <th></th>\n",
       "      <th></th>\n",
       "    </tr>\n",
       "  </thead>\n",
       "  <tbody>\n",
       "    <tr>\n",
       "      <th>0</th>\n",
       "      <td>72</td>\n",
       "      <td>655</td>\n",
       "      <td>102</td>\n",
       "      <td>300</td>\n",
       "      <td>172</td>\n",
       "      <td>330</td>\n",
       "      <td>511</td>\n",
       "    </tr>\n",
       "    <tr>\n",
       "      <th>1</th>\n",
       "      <td>61</td>\n",
       "      <td>794</td>\n",
       "      <td>106</td>\n",
       "      <td>342</td>\n",
       "      <td>106</td>\n",
       "      <td>224</td>\n",
       "      <td>571</td>\n",
       "    </tr>\n",
       "    <tr>\n",
       "      <th>2</th>\n",
       "      <td>26</td>\n",
       "      <td>740</td>\n",
       "      <td>54</td>\n",
       "      <td>254</td>\n",
       "      <td>64</td>\n",
       "      <td>130</td>\n",
       "      <td>399</td>\n",
       "    </tr>\n",
       "    <tr>\n",
       "      <th>3</th>\n",
       "      <td>29</td>\n",
       "      <td>583</td>\n",
       "      <td>33</td>\n",
       "      <td>240</td>\n",
       "      <td>49</td>\n",
       "      <td>97</td>\n",
       "      <td>315</td>\n",
       "    </tr>\n",
       "    <tr>\n",
       "      <th>4</th>\n",
       "      <td>42</td>\n",
       "      <td>157</td>\n",
       "      <td>67</td>\n",
       "      <td>101</td>\n",
       "      <td>68</td>\n",
       "      <td>142</td>\n",
       "      <td>253</td>\n",
       "    </tr>\n",
       "  </tbody>\n",
       "</table>\n",
       "</div>"
      ],
      "text/plain": [
       "Ocupacion  Ama de Casa  Empleado  Estudiante  Independiente  Otro  Pensionado  \\\n",
       "Cluster                                                                         \n",
       "0                   72       655         102            300   172         330   \n",
       "1                   61       794         106            342   106         224   \n",
       "2                   26       740          54            254    64         130   \n",
       "3                   29       583          33            240    49          97   \n",
       "4                   42       157          67            101    68         142   \n",
       "\n",
       "Ocupacion  Rentista de Capital  \n",
       "Cluster                         \n",
       "0                          511  \n",
       "1                          571  \n",
       "2                          399  \n",
       "3                          315  \n",
       "4                          253  "
      ]
     },
     "execution_count": 1402,
     "metadata": {},
     "output_type": "execute_result"
    }
   ],
   "source": [
    "lista_df_etiquetas_cat[1]"
   ]
  },
  {
   "attachments": {},
   "cell_type": "markdown",
   "metadata": {},
   "source": [
    "## RangoEtario"
   ]
  },
  {
   "cell_type": "code",
   "execution_count": 1403,
   "metadata": {},
   "outputs": [
    {
     "data": {
      "text/html": [
       "<div>\n",
       "<style scoped>\n",
       "    .dataframe tbody tr th:only-of-type {\n",
       "        vertical-align: middle;\n",
       "    }\n",
       "\n",
       "    .dataframe tbody tr th {\n",
       "        vertical-align: top;\n",
       "    }\n",
       "\n",
       "    .dataframe thead th {\n",
       "        text-align: right;\n",
       "    }\n",
       "</style>\n",
       "<table border=\"1\" class=\"dataframe\">\n",
       "  <thead>\n",
       "    <tr style=\"text-align: right;\">\n",
       "      <th>RangoEtario</th>\n",
       "      <th>18-30</th>\n",
       "      <th>31-50</th>\n",
       "      <th>Mayor de 50</th>\n",
       "      <th>Menor de 18</th>\n",
       "    </tr>\n",
       "    <tr>\n",
       "      <th>Cluster</th>\n",
       "      <th></th>\n",
       "      <th></th>\n",
       "      <th></th>\n",
       "      <th></th>\n",
       "    </tr>\n",
       "  </thead>\n",
       "  <tbody>\n",
       "    <tr>\n",
       "      <th>0</th>\n",
       "      <td>110</td>\n",
       "      <td>487</td>\n",
       "      <td>1529</td>\n",
       "      <td>16</td>\n",
       "    </tr>\n",
       "    <tr>\n",
       "      <th>1</th>\n",
       "      <td>132</td>\n",
       "      <td>559</td>\n",
       "      <td>1506</td>\n",
       "      <td>7</td>\n",
       "    </tr>\n",
       "    <tr>\n",
       "      <th>2</th>\n",
       "      <td>61</td>\n",
       "      <td>480</td>\n",
       "      <td>1119</td>\n",
       "      <td>7</td>\n",
       "    </tr>\n",
       "    <tr>\n",
       "      <th>3</th>\n",
       "      <td>54</td>\n",
       "      <td>487</td>\n",
       "      <td>803</td>\n",
       "      <td>2</td>\n",
       "    </tr>\n",
       "    <tr>\n",
       "      <th>4</th>\n",
       "      <td>72</td>\n",
       "      <td>144</td>\n",
       "      <td>606</td>\n",
       "      <td>8</td>\n",
       "    </tr>\n",
       "  </tbody>\n",
       "</table>\n",
       "</div>"
      ],
      "text/plain": [
       "RangoEtario  18-30  31-50  Mayor de 50  Menor de 18\n",
       "Cluster                                            \n",
       "0              110    487         1529           16\n",
       "1              132    559         1506            7\n",
       "2               61    480         1119            7\n",
       "3               54    487          803            2\n",
       "4               72    144          606            8"
      ]
     },
     "execution_count": 1403,
     "metadata": {},
     "output_type": "execute_result"
    }
   ],
   "source": [
    "lista_df_etiquetas_cat[2]"
   ]
  },
  {
   "attachments": {},
   "cell_type": "markdown",
   "metadata": {},
   "source": [
    "## Estado"
   ]
  },
  {
   "cell_type": "code",
   "execution_count": 1404,
   "metadata": {},
   "outputs": [
    {
     "data": {
      "text/html": [
       "<div>\n",
       "<style scoped>\n",
       "    .dataframe tbody tr th:only-of-type {\n",
       "        vertical-align: middle;\n",
       "    }\n",
       "\n",
       "    .dataframe tbody tr th {\n",
       "        vertical-align: top;\n",
       "    }\n",
       "\n",
       "    .dataframe thead th {\n",
       "        text-align: right;\n",
       "    }\n",
       "</style>\n",
       "<table border=\"1\" class=\"dataframe\">\n",
       "  <thead>\n",
       "    <tr style=\"text-align: right;\">\n",
       "      <th>Estado</th>\n",
       "      <th>Activo</th>\n",
       "      <th>En Espera</th>\n",
       "      <th>Inactivo</th>\n",
       "      <th>Prospecto</th>\n",
       "    </tr>\n",
       "    <tr>\n",
       "      <th>Cluster</th>\n",
       "      <th></th>\n",
       "      <th></th>\n",
       "      <th></th>\n",
       "      <th></th>\n",
       "    </tr>\n",
       "  </thead>\n",
       "  <tbody>\n",
       "    <tr>\n",
       "      <th>0</th>\n",
       "      <td>1443</td>\n",
       "      <td>439</td>\n",
       "      <td>223</td>\n",
       "      <td>37</td>\n",
       "    </tr>\n",
       "    <tr>\n",
       "      <th>1</th>\n",
       "      <td>1813</td>\n",
       "      <td>310</td>\n",
       "      <td>46</td>\n",
       "      <td>35</td>\n",
       "    </tr>\n",
       "    <tr>\n",
       "      <th>2</th>\n",
       "      <td>1590</td>\n",
       "      <td>24</td>\n",
       "      <td>16</td>\n",
       "      <td>37</td>\n",
       "    </tr>\n",
       "    <tr>\n",
       "      <th>3</th>\n",
       "      <td>1304</td>\n",
       "      <td>24</td>\n",
       "      <td>11</td>\n",
       "      <td>7</td>\n",
       "    </tr>\n",
       "    <tr>\n",
       "      <th>4</th>\n",
       "      <td>630</td>\n",
       "      <td>180</td>\n",
       "      <td>16</td>\n",
       "      <td>4</td>\n",
       "    </tr>\n",
       "  </tbody>\n",
       "</table>\n",
       "</div>"
      ],
      "text/plain": [
       "Estado   Activo  En Espera  Inactivo  Prospecto\n",
       "Cluster                                        \n",
       "0          1443        439       223         37\n",
       "1          1813        310        46         35\n",
       "2          1590         24        16         37\n",
       "3          1304         24        11          7\n",
       "4           630        180        16          4"
      ]
     },
     "execution_count": 1404,
     "metadata": {},
     "output_type": "execute_result"
    }
   ],
   "source": [
    "lista_df_etiquetas_cat[3]"
   ]
  },
  {
   "attachments": {},
   "cell_type": "markdown",
   "metadata": {},
   "source": [
    "## NivelRiesgo"
   ]
  },
  {
   "cell_type": "code",
   "execution_count": 1405,
   "metadata": {},
   "outputs": [
    {
     "data": {
      "text/html": [
       "<div>\n",
       "<style scoped>\n",
       "    .dataframe tbody tr th:only-of-type {\n",
       "        vertical-align: middle;\n",
       "    }\n",
       "\n",
       "    .dataframe tbody tr th {\n",
       "        vertical-align: top;\n",
       "    }\n",
       "\n",
       "    .dataframe thead th {\n",
       "        text-align: right;\n",
       "    }\n",
       "</style>\n",
       "<table border=\"1\" class=\"dataframe\">\n",
       "  <thead>\n",
       "    <tr style=\"text-align: right;\">\n",
       "      <th>NivelRiesgo</th>\n",
       "      <th>Alto</th>\n",
       "      <th>Bajo</th>\n",
       "      <th>Medio</th>\n",
       "    </tr>\n",
       "    <tr>\n",
       "      <th>Cluster</th>\n",
       "      <th></th>\n",
       "      <th></th>\n",
       "      <th></th>\n",
       "    </tr>\n",
       "  </thead>\n",
       "  <tbody>\n",
       "    <tr>\n",
       "      <th>0</th>\n",
       "      <td>21</td>\n",
       "      <td>507</td>\n",
       "      <td>1614</td>\n",
       "    </tr>\n",
       "    <tr>\n",
       "      <th>1</th>\n",
       "      <td>33</td>\n",
       "      <td>545</td>\n",
       "      <td>1626</td>\n",
       "    </tr>\n",
       "    <tr>\n",
       "      <th>2</th>\n",
       "      <td>18</td>\n",
       "      <td>508</td>\n",
       "      <td>1141</td>\n",
       "    </tr>\n",
       "    <tr>\n",
       "      <th>3</th>\n",
       "      <td>6</td>\n",
       "      <td>389</td>\n",
       "      <td>951</td>\n",
       "    </tr>\n",
       "    <tr>\n",
       "      <th>4</th>\n",
       "      <td>18</td>\n",
       "      <td>86</td>\n",
       "      <td>726</td>\n",
       "    </tr>\n",
       "  </tbody>\n",
       "</table>\n",
       "</div>"
      ],
      "text/plain": [
       "NivelRiesgo  Alto  Bajo  Medio\n",
       "Cluster                       \n",
       "0              21   507   1614\n",
       "1              33   545   1626\n",
       "2              18   508   1141\n",
       "3               6   389    951\n",
       "4              18    86    726"
      ]
     },
     "execution_count": 1405,
     "metadata": {},
     "output_type": "execute_result"
    }
   ],
   "source": [
    "lista_df_etiquetas_cat[4]"
   ]
  },
  {
   "attachments": {},
   "cell_type": "markdown",
   "metadata": {},
   "source": [
    "## Segmento"
   ]
  },
  {
   "cell_type": "code",
   "execution_count": 1406,
   "metadata": {},
   "outputs": [
    {
     "data": {
      "text/html": [
       "<div>\n",
       "<style scoped>\n",
       "    .dataframe tbody tr th:only-of-type {\n",
       "        vertical-align: middle;\n",
       "    }\n",
       "\n",
       "    .dataframe tbody tr th {\n",
       "        vertical-align: top;\n",
       "    }\n",
       "\n",
       "    .dataframe thead th {\n",
       "        text-align: right;\n",
       "    }\n",
       "</style>\n",
       "<table border=\"1\" class=\"dataframe\">\n",
       "  <thead>\n",
       "    <tr style=\"text-align: right;\">\n",
       "      <th>Segmento</th>\n",
       "      <th>Corporativo</th>\n",
       "      <th>Personal</th>\n",
       "    </tr>\n",
       "    <tr>\n",
       "      <th>Cluster</th>\n",
       "      <th></th>\n",
       "      <th></th>\n",
       "    </tr>\n",
       "  </thead>\n",
       "  <tbody>\n",
       "    <tr>\n",
       "      <th>0</th>\n",
       "      <td>6.00</td>\n",
       "      <td>2,136.00</td>\n",
       "    </tr>\n",
       "    <tr>\n",
       "      <th>1</th>\n",
       "      <td>1.00</td>\n",
       "      <td>2,203.00</td>\n",
       "    </tr>\n",
       "    <tr>\n",
       "      <th>2</th>\n",
       "      <td>1.00</td>\n",
       "      <td>1,666.00</td>\n",
       "    </tr>\n",
       "    <tr>\n",
       "      <th>3</th>\n",
       "      <td>3.00</td>\n",
       "      <td>1,343.00</td>\n",
       "    </tr>\n",
       "    <tr>\n",
       "      <th>4</th>\n",
       "      <td>0.00</td>\n",
       "      <td>830.00</td>\n",
       "    </tr>\n",
       "  </tbody>\n",
       "</table>\n",
       "</div>"
      ],
      "text/plain": [
       "Segmento  Corporativo  Personal\n",
       "Cluster                        \n",
       "0                6.00  2,136.00\n",
       "1                1.00  2,203.00\n",
       "2                1.00  1,666.00\n",
       "3                3.00  1,343.00\n",
       "4                0.00    830.00"
      ]
     },
     "execution_count": 1406,
     "metadata": {},
     "output_type": "execute_result"
    }
   ],
   "source": [
    "lista_df_etiquetas_cat[5]"
   ]
  },
  {
   "attachments": {},
   "cell_type": "markdown",
   "metadata": {},
   "source": [
    "## RiesgoOcupacion"
   ]
  },
  {
   "cell_type": "code",
   "execution_count": 1407,
   "metadata": {},
   "outputs": [
    {
     "data": {
      "text/html": [
       "<div>\n",
       "<style scoped>\n",
       "    .dataframe tbody tr th:only-of-type {\n",
       "        vertical-align: middle;\n",
       "    }\n",
       "\n",
       "    .dataframe tbody tr th {\n",
       "        vertical-align: top;\n",
       "    }\n",
       "\n",
       "    .dataframe thead th {\n",
       "        text-align: right;\n",
       "    }\n",
       "</style>\n",
       "<table border=\"1\" class=\"dataframe\">\n",
       "  <thead>\n",
       "    <tr style=\"text-align: right;\">\n",
       "      <th>RiesgoOcupacion</th>\n",
       "      <th>2</th>\n",
       "      <th>3</th>\n",
       "      <th>4</th>\n",
       "      <th>5</th>\n",
       "    </tr>\n",
       "    <tr>\n",
       "      <th>Cluster</th>\n",
       "      <th></th>\n",
       "      <th></th>\n",
       "      <th></th>\n",
       "      <th></th>\n",
       "    </tr>\n",
       "  </thead>\n",
       "  <tbody>\n",
       "    <tr>\n",
       "      <th>0</th>\n",
       "      <td>985</td>\n",
       "      <td>511</td>\n",
       "      <td>346</td>\n",
       "      <td>300</td>\n",
       "    </tr>\n",
       "    <tr>\n",
       "      <th>1</th>\n",
       "      <td>1018</td>\n",
       "      <td>571</td>\n",
       "      <td>273</td>\n",
       "      <td>342</td>\n",
       "    </tr>\n",
       "    <tr>\n",
       "      <th>2</th>\n",
       "      <td>870</td>\n",
       "      <td>399</td>\n",
       "      <td>144</td>\n",
       "      <td>254</td>\n",
       "    </tr>\n",
       "    <tr>\n",
       "      <th>3</th>\n",
       "      <td>680</td>\n",
       "      <td>315</td>\n",
       "      <td>111</td>\n",
       "      <td>240</td>\n",
       "    </tr>\n",
       "    <tr>\n",
       "      <th>4</th>\n",
       "      <td>299</td>\n",
       "      <td>253</td>\n",
       "      <td>177</td>\n",
       "      <td>101</td>\n",
       "    </tr>\n",
       "  </tbody>\n",
       "</table>\n",
       "</div>"
      ],
      "text/plain": [
       "RiesgoOcupacion     2    3    4    5\n",
       "Cluster                             \n",
       "0                 985  511  346  300\n",
       "1                1018  571  273  342\n",
       "2                 870  399  144  254\n",
       "3                 680  315  111  240\n",
       "4                 299  253  177  101"
      ]
     },
     "execution_count": 1407,
     "metadata": {},
     "output_type": "execute_result"
    }
   ],
   "source": [
    "lista_df_etiquetas_cat[6]"
   ]
  },
  {
   "attachments": {},
   "cell_type": "markdown",
   "metadata": {},
   "source": [
    "### Ahora, basados la totalidad de la información recolectada por el EDA y el modelo de segmentación de clientes en conjunto, crearemos el perfil de cada cluster\n",
    "### Pero antes de esto, sacaremos unas conclusiones generales que aplican para todos los clusters\n",
    "### La mayoría de clientes:\n",
    "- Tienen una cantidad de activos y pasivos media, y de los activos, es bajo el número de los que se conoce de antemano el flujo de ingresos que generarán\n",
    "\n",
    "- Tienen un cantidad de gastos media\n",
    "\n",
    "- Manejan una compra y venta de divisas extranjeras baja\n",
    "\n",
    "- Tienen cédula\n",
    "\n",
    "- Son mayores de 50 años\n",
    "\n",
    "- Utilizan los productos o servicios ofrecidos y mantienen una relación continua con la empresa. Además, son considerados valiosos, ya que generan ingresos recurrentes y pueden ser objeto de programas de fidelización\n",
    "\n",
    "- Tienen una probabilidad promedio de cumplir con sus obligaciones financieras, además, tienen una ocupación poco riesgosa, y esto influye positivamente en su capacidad para cumplir con ellas a lo largo del tiempo\n",
    "\n",
    "- Son individuos o consumidores finales que utilizan productos y servicios financieros para satisfacer sus necesidades personales"
   ]
  },
  {
   "attachments": {},
   "cell_type": "markdown",
   "metadata": {},
   "source": [
    "### Basados en el perfil general de los clientes, describamos el perfil específico de cada cluster:\n",
    "- Cluster 0: Empledado con acciones y bajos ingresos\n",
    "\n",
    "- Cluster 1: Empleado sin acciones y bajos ingresos\n",
    "\n",
    "- Cluster 2: Empleado sin acciones y altos ingresos\n",
    "\n",
    "- Cluster 3: Empleado con acciones y altos ingresos\n",
    "\n",
    "- Cluster 4: Rentista de capital sin acciones y bajos ingresos"
   ]
  },
  {
   "attachments": {},
   "cell_type": "markdown",
   "metadata": {},
   "source": [
    "### Crearemos una tabla a parte con la descripción de cada cluster"
   ]
  },
  {
   "cell_type": "code",
   "execution_count": 1408,
   "metadata": {},
   "outputs": [
    {
     "data": {
      "text/html": [
       "<div>\n",
       "<style scoped>\n",
       "    .dataframe tbody tr th:only-of-type {\n",
       "        vertical-align: middle;\n",
       "    }\n",
       "\n",
       "    .dataframe tbody tr th {\n",
       "        vertical-align: top;\n",
       "    }\n",
       "\n",
       "    .dataframe thead th {\n",
       "        text-align: right;\n",
       "    }\n",
       "</style>\n",
       "<table border=\"1\" class=\"dataframe\">\n",
       "  <thead>\n",
       "    <tr style=\"text-align: right;\">\n",
       "      <th></th>\n",
       "      <th>Cluster</th>\n",
       "      <th>Descripcion</th>\n",
       "    </tr>\n",
       "  </thead>\n",
       "  <tbody>\n",
       "    <tr>\n",
       "      <th>0</th>\n",
       "      <td>0</td>\n",
       "      <td>Empleado con acciones y bajos ingresos</td>\n",
       "    </tr>\n",
       "    <tr>\n",
       "      <th>1</th>\n",
       "      <td>1</td>\n",
       "      <td>Empleado sin acciones y bajos ingresos</td>\n",
       "    </tr>\n",
       "    <tr>\n",
       "      <th>2</th>\n",
       "      <td>2</td>\n",
       "      <td>Empleado sin acciones y altos ingresos</td>\n",
       "    </tr>\n",
       "    <tr>\n",
       "      <th>3</th>\n",
       "      <td>3</td>\n",
       "      <td>Empleado con acciones y altos ingresos</td>\n",
       "    </tr>\n",
       "    <tr>\n",
       "      <th>4</th>\n",
       "      <td>4</td>\n",
       "      <td>Rentista de capital sin acciones y bajos ingresos</td>\n",
       "    </tr>\n",
       "  </tbody>\n",
       "</table>\n",
       "</div>"
      ],
      "text/plain": [
       "   Cluster                                        Descripcion\n",
       "0        0             Empleado con acciones y bajos ingresos\n",
       "1        1             Empleado sin acciones y bajos ingresos\n",
       "2        2             Empleado sin acciones y altos ingresos\n",
       "3        3             Empleado con acciones y altos ingresos\n",
       "4        4  Rentista de capital sin acciones y bajos ingresos"
      ]
     },
     "execution_count": 1408,
     "metadata": {},
     "output_type": "execute_result"
    }
   ],
   "source": [
    "descripcion_cluster = {\"Cluster\" : [0, 1, 2 ,3 , 4],\n",
    "                       \"Descripcion\" : [\"Empleado con acciones y bajos ingresos\",\n",
    "                                        \"Empleado sin acciones y bajos ingresos\",\n",
    "                                        \"Empleado sin acciones y altos ingresos\",\n",
    "                                        \"Empleado con acciones y altos ingresos\",\n",
    "                                        \"Rentista de capital sin acciones y bajos ingresos\"]}\n",
    "descripcion_cluster = pd.DataFrame(descripcion_cluster)\n",
    "descripcion_cluster"
   ]
  },
  {
   "attachments": {},
   "cell_type": "markdown",
   "metadata": {},
   "source": [
    "### Por útltimo guardamos la tabla con los clientes y las transacciones, y la tabla con la descrpción de cada cluster, listas para ser interpretadas gráfica e interactivamente en Power BI"
   ]
  },
  {
   "cell_type": "code",
   "execution_count": 1409,
   "metadata": {},
   "outputs": [],
   "source": [
    "df_k_means.to_csv(\"tabala_modelo_ML.csv\", index = False)\n",
    "descripcion_cluster.to_csv(\"tabla_descripcion_cluster.csv\", index = False)"
   ]
  }
 ],
 "metadata": {
  "kernelspec": {
   "display_name": "Python 3",
   "language": "python",
   "name": "python3"
  },
  "language_info": {
   "codemirror_mode": {
    "name": "ipython",
    "version": 3
   },
   "file_extension": ".py",
   "mimetype": "text/x-python",
   "name": "python",
   "nbconvert_exporter": "python",
   "pygments_lexer": "ipython3",
   "version": "3.10.4"
  },
  "orig_nbformat": 4
 },
 "nbformat": 4,
 "nbformat_minor": 2
}
